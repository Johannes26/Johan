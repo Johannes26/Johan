{
 "cells": [
  {
   "cell_type": "markdown",
   "metadata": {},
   "source": [
    "# Lista de Tareas"
   ]
  },
  {
   "cell_type": "markdown",
   "metadata": {},
   "source": [
    "##  1. Suma de numeros complejos"
   ]
  },
  {
   "cell_type": "markdown",
   "metadata": {},
   "source": [
    "La funcion Sumar_r declara las variables para las cuales lee 2 numeros complejos y determina la suma entre ellos."
   ]
  },
  {
   "cell_type": "code",
   "execution_count": 1,
   "metadata": {},
   "outputs": [],
   "source": [
    "from sys import stdin"
   ]
  },
  {
   "cell_type": "code",
   "execution_count": 11,
   "metadata": {},
   "outputs": [],
   "source": [
    "def Sumar_Comp(C1,C2):\n",
    "    #declaración de variables para la lectura de numeros complejos, en el cual lee 2 numeros separados por un espacio;\n",
    "    #El primero es la parte real y el segundo la parte imaginaria\n",
    "    Real=C1[0]+C2[0]\n",
    "    Comp=C2[1]+C2[1]\n",
    "\n",
    "    print('La respectiva suma es:')\n",
    "\n",
    "    if Comp==0:\n",
    "        print(Real)\n",
    "    elif Comp<0:\n",
    "        print(Real,'-',str(Comp*-1)+'i')\n",
    "    else:\n",
    "        print(Real,'+',str(Comp)+'i')\n",
    "        \n",
    "    return([Real,Comp])"
   ]
  },
  {
   "cell_type": "code",
   "execution_count": 21,
   "metadata": {},
   "outputs": [
    {
     "name": "stdout",
     "output_type": "stream",
     "text": [
      "La respectiva suma es:\n",
      "-4 + 6i\n"
     ]
    },
    {
     "data": {
      "text/plain": [
       "[-4, 6]"
      ]
     },
     "execution_count": 21,
     "metadata": {},
     "output_type": "execute_result"
    }
   ],
   "source": [
    "Sumar_Comp([-5,4],[1,3])"
   ]
  },
  {
   "cell_type": "markdown",
   "metadata": {},
   "source": [
    "## 2. Multiplicacion de numeros complejos"
   ]
  },
  {
   "cell_type": "code",
   "execution_count": 4,
   "metadata": {},
   "outputs": [],
   "source": [
    "from sys import stdin"
   ]
  },
  {
   "cell_type": "code",
   "execution_count": 13,
   "metadata": {},
   "outputs": [],
   "source": [
    "def Multi_Comp(C1,C2):\n",
    "    #declaración de variables para la lectura de numeros complejos, en el cual lee 2 numeros separados por un espacio;\n",
    "    #El primero es la parte real y el segundo la parte imaginaria\n",
    "    \n",
    "    Real=(C1[0]*C2[0])-(C1[1]*C2[1])\n",
    "    Comp=(C1[0]*C2[1])+(C1[1]*C2[0])\n",
    "\n",
    "    print('La respectiva Multiplicacion es:')\n",
    "\n",
    "    if Comp==0:\n",
    "        print(Real)\n",
    "    elif Comp<0:\n",
    "        print(Real,'-',str(-Comp)+'i')\n",
    "    else:\n",
    "        print(Real,'+',str(Comp)+'i')\n",
    "    \n",
    "    return([Real,Comp])"
   ]
  },
  {
   "cell_type": "code",
   "execution_count": 14,
   "metadata": {},
   "outputs": [
    {
     "name": "stdout",
     "output_type": "stream",
     "text": [
      "La respectiva Multiplicacion es:\n",
      "-17 - 11i\n"
     ]
    },
    {
     "data": {
      "text/plain": [
       "[-17, -11]"
      ]
     },
     "execution_count": 14,
     "metadata": {},
     "output_type": "execute_result"
    }
   ],
   "source": [
    "Multi_Comp([-5,4],[1,3])"
   ]
  },
  {
   "cell_type": "markdown",
   "metadata": {},
   "source": [
    "## 3. Conjugado"
   ]
  },
  {
   "cell_type": "code",
   "execution_count": 7,
   "metadata": {},
   "outputs": [],
   "source": [
    "from sys import stdin"
   ]
  },
  {
   "cell_type": "code",
   "execution_count": 8,
   "metadata": {},
   "outputs": [],
   "source": [
    "def Conjugado_Comp(C1):\n",
    "    #declaración de variables para la lectura de numeros complejos, en el cual lee 2 numeros separados por un espacio;\n",
    "    #El primero es la parte real y el segundo la parte imaginaria\n",
    "    \n",
    "    Real= C1[0]\n",
    "    Comp=-C1[1]\n",
    "    \n",
    "    print('El conjugado es:')\n",
    "\n",
    "    if Comp==0:\n",
    "        print(Real)\n",
    "    elif Comp<0:\n",
    "        print(Real,'-',str(Comp*-1)+'i')\n",
    "    else:\n",
    "        print(Real,'+',str(Comp)+'i')\n",
    "    \n",
    "    return([Real,Comp])"
   ]
  },
  {
   "cell_type": "code",
   "execution_count": 9,
   "metadata": {},
   "outputs": [
    {
     "name": "stdout",
     "output_type": "stream",
     "text": [
      "El conjugado es:\n",
      "-5 - 4i\n"
     ]
    },
    {
     "data": {
      "text/plain": [
       "[-5, -4]"
      ]
     },
     "execution_count": 9,
     "metadata": {},
     "output_type": "execute_result"
    }
   ],
   "source": [
    "Conjugado_Comp([-5,4])"
   ]
  },
  {
   "cell_type": "markdown",
   "metadata": {},
   "source": [
    "## 4. Division"
   ]
  },
  {
   "cell_type": "code",
   "execution_count": 10,
   "metadata": {},
   "outputs": [],
   "source": [
    "from sys import stdin"
   ]
  },
  {
   "cell_type": "code",
   "execution_count": 11,
   "metadata": {},
   "outputs": [],
   "source": [
    "def Division_Comp(C1,C2):\n",
    "    #declaración de variables para la lectura de numeros complejos, en el cual lee 2 numeros separados por un espacio;\n",
    "    #El primero es la parte real y el segundo la parte imaginaria\n",
    "\n",
    "    \n",
    "    #Conjugado\n",
    "    Conj=Conjugado_Comp(C2)\n",
    "    \n",
    "    #Multiplicacion Numerador\n",
    "    Num=Multi_Comp(Conj,C2)\n",
    "    \n",
    "    #Multiplicacion Denominador\n",
    "    Denom=Multi_Comp(C1,Conj)\n",
    "\n",
    "    print('La respectiva Division es:')\n",
    "\n",
    "    \n",
    "    if Num[1]==0:\n",
    "        print(Num[0],end='')\n",
    "    elif Num[1]<0:\n",
    "        print(Num[0],'-',str(-Num[1])+'i',end='')\n",
    "    else:\n",
    "        print(Num[0],'+',str(Num[1])+'i',end='')\n",
    "    \n",
    "    \n",
    "    print('  /  ',end='')\n",
    "    \n",
    "    \n",
    "    if Denom[1]==0:\n",
    "        print(Denom[0])\n",
    "    elif Denom[1]<0:\n",
    "        print(Denom[0],'-',str(-Denom[1])+'i')\n",
    "    else:\n",
    "        print(Denom[0],'+',str(Denom[1])+'i')"
   ]
  },
  {
   "cell_type": "code",
   "execution_count": 12,
   "metadata": {},
   "outputs": [
    {
     "name": "stdout",
     "output_type": "stream",
     "text": [
      "El conjugado es:\n",
      "1 - 3i\n",
      "La respectiva Multiplicacion es:\n",
      "10\n",
      "La respectiva Multiplicacion es:\n",
      "7 + 19i\n",
      "La respectiva Division es:\n",
      "10  /  7 + 19i\n"
     ]
    }
   ],
   "source": [
    "Division_Comp([-5,4],[1,3])"
   ]
  },
  {
   "cell_type": "markdown",
   "metadata": {},
   "source": [
    "## 4. Modulo"
   ]
  },
  {
   "cell_type": "code",
   "execution_count": 13,
   "metadata": {},
   "outputs": [],
   "source": [
    "from sys import stdin\n",
    "import math"
   ]
  },
  {
   "cell_type": "code",
   "execution_count": 16,
   "metadata": {},
   "outputs": [],
   "source": [
    "def Modulo_Comp(C1):\n",
    "    #declaración de variables para la lectura de numeros complejos, en el cual lee 2 numeros separados por un espacio;\n",
    "    #El primero es la parte real y el segundo la parte imaginaria\n",
    "    \n",
    "    Real= C1[0]\n",
    "    Comp= C1[1]\n",
    "    res= math.sqrt((Real**2)+(Comp**2))\n",
    "    \n",
    "    print('El Modulo es:')\n",
    "    \n",
    "    print(res)\n",
    "\n",
    "    return(res)\n",
    "\n",
    "\n",
    "# In[10]:\n",
    "\n",
    "\n"
   ]
  },
  {
   "cell_type": "code",
   "execution_count": 17,
   "metadata": {},
   "outputs": [
    {
     "name": "stdout",
     "output_type": "stream",
     "text": [
      "El Modulo es:\n",
      "6.4031242374328485\n"
     ]
    },
    {
     "data": {
      "text/plain": [
       "6.4031242374328485"
      ]
     },
     "execution_count": 17,
     "metadata": {},
     "output_type": "execute_result"
    }
   ],
   "source": [
    "Modulo_Comp([-5,4])"
   ]
  },
  {
   "cell_type": "markdown",
   "metadata": {},
   "source": [
    "## 4. Forma rectangular a polar"
   ]
  },
  {
   "cell_type": "code",
   "execution_count": 27,
   "metadata": {},
   "outputs": [],
   "source": [
    "def Rec_Polar(C1):\n",
    "    #declaración de variables para la lectura de numeros complejos, en el cual lee 2 numeros separados por un espacio;\n",
    "    #El primero es la parte real y el segundo la parte imaginaria\n",
    "    p = Modulo_Comp(C1)\n",
    "    T = math.atan((C1[1]/C1[0]))\n",
    "    res = [p, T]\n",
    "        \n",
    "    print(\"El resultado es: \",res[0],\",\",res[1])"
   ]
  },
  {
   "cell_type": "code",
   "execution_count": 28,
   "metadata": {},
   "outputs": [
    {
     "name": "stdout",
     "output_type": "stream",
     "text": [
      "El Modulo es:\n",
      "6.4031242374328485\n",
      "El resultado es:  6.4031242374328485 , -0.6747409422235527\n"
     ]
    }
   ],
   "source": [
    "Rec_Polar([-5, 4])"
   ]
  },
  {
   "cell_type": "markdown",
   "metadata": {},
   "source": [
    "## 5. Forma polar a rectangular"
   ]
  },
  {
   "cell_type": "code",
   "execution_count": 23,
   "metadata": {},
   "outputs": [],
   "source": [
    "def Polar_Rec(C1):\n",
    "    #declaración de variables para la lectura de numeros complejos, en el cual lee 2 numeros separados por un espacio;\n",
    "    #El primero es la parte real y el segundo la parte imaginaria\n",
    "    n1 = C1[0] * math.cos(C1[1])\n",
    "    n2 = C1[0] * math.sin(C1[1])\n",
    "    print(\"El resultado es: \",round(n1),\",\",round(n2))"
   ]
  },
  {
   "cell_type": "code",
   "execution_count": 26,
   "metadata": {},
   "outputs": [
    {
     "name": "stdout",
     "output_type": "stream",
     "text": [
      "El resultado es:  5 , -4\n"
     ]
    }
   ],
   "source": [
    "Polar_Rec([6.4, -0.67])"
   ]
  },
  {
   "cell_type": "markdown",
   "metadata": {},
   "source": [
    "## 6. Suma de 2 vectores"
   ]
  },
  {
   "cell_type": "code",
   "execution_count": 15,
   "metadata": {},
   "outputs": [],
   "source": [
    "def Suma_Vec(v1,v2):\n",
    "    suma=[]\n",
    "    for i in range(len(v1)):\n",
    "        suma.append(Sumar_Comp(v1[i],v2[i]))\n",
    "    return suma\n",
    "        "
   ]
  },
  {
   "cell_type": "code",
   "execution_count": 16,
   "metadata": {},
   "outputs": [
    {
     "name": "stdout",
     "output_type": "stream",
     "text": [
      "La respectiva suma es:\n",
      "3 + 6i\n",
      "La respectiva suma es:\n",
      "8\n"
     ]
    },
    {
     "data": {
      "text/plain": [
       "[[3, 6], [8, 0]]"
      ]
     },
     "execution_count": 16,
     "metadata": {},
     "output_type": "execute_result"
    }
   ],
   "source": [
    "Suma_Vec([[1,2],[3,2]],[[2,3],[5,0])"
   ]
  },
  {
   "cell_type": "markdown",
   "metadata": {},
   "source": [
    "## 7. inversa de un vector"
   ]
  },
  {
   "cell_type": "code",
   "execution_count": 23,
   "metadata": {},
   "outputs": [],
   "source": [
    "def Inv_Vec(v1):\n",
    "    for i in range(len(v1)):\n",
    "        v1[i][0]*=-1\n",
    "        v1[i][1]*=-1\n",
    "    return v1\n",
    "        "
   ]
  },
  {
   "cell_type": "code",
   "execution_count": 24,
   "metadata": {},
   "outputs": [
    {
     "data": {
      "text/plain": [
       "[[-1, -2], [-3, -2]]"
      ]
     },
     "execution_count": 24,
     "metadata": {},
     "output_type": "execute_result"
    }
   ],
   "source": [
    "Inv_Vec([[1,2],[3,2]])"
   ]
  },
  {
   "cell_type": "markdown",
   "metadata": {},
   "source": [
    "## 8. Multiplicación escalar de vectores complejos"
   ]
  },
  {
   "cell_type": "code",
   "execution_count": 25,
   "metadata": {},
   "outputs": [],
   "source": [
    "def Mulp_Escalar_Vec(v1,c):\n",
    "    for i in range(len(v1)):\n",
    "        v1[i][0]*=c\n",
    "        v1[i][1]*=c\n",
    "    return v1\n",
    "        "
   ]
  },
  {
   "cell_type": "code",
   "execution_count": 26,
   "metadata": {},
   "outputs": [
    {
     "data": {
      "text/plain": [
       "[[3, 6], [9, 6]]"
      ]
     },
     "execution_count": 26,
     "metadata": {},
     "output_type": "execute_result"
    }
   ],
   "source": [
    "Mulp_Escalar_Vec([[1,2],[3,2]],3)"
   ]
  },
  {
   "cell_type": "markdown",
   "metadata": {},
   "source": [
    "## 9. Adición de matrices complejos"
   ]
  },
  {
   "cell_type": "code",
   "execution_count": null,
   "metadata": {},
   "outputs": [],
   "source": [
    "def Suma_Matrices(M1,M2):\n",
    "    suma=[]\n",
    "    for i in range(len(v1)):\n",
    "        for j in range(len(v1[0])):\n",
    "            \n",
    "        suma.append(Sumar_Comp(v1[i],v2[i]))\n",
    "    return suma\n",
    "        "
   ]
  }
 ],
 "metadata": {
  "kernelspec": {
   "display_name": "Python 3",
   "language": "python",
   "name": "python3"
  },
  "language_info": {
   "codemirror_mode": {
    "name": "ipython",
    "version": 3
   },
   "file_extension": ".py",
   "mimetype": "text/x-python",
   "name": "python",
   "nbconvert_exporter": "python",
   "pygments_lexer": "ipython3",
   "version": "3.7.3"
  }
 },
 "nbformat": 4,
 "nbformat_minor": 4
}
